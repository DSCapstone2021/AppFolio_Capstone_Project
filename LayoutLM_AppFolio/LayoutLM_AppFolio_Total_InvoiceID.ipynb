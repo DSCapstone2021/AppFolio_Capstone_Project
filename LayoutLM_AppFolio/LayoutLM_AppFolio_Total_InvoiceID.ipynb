{
  "nbformat": 4,
  "nbformat_minor": 0,
  "metadata": {
    "colab": {
      "name": "LayoutLM_AppFolio_Total_InvoiceID",
      "provenance": [],
      "collapsed_sections": [
        "hfLA-aeFrg-f",
        "1vkKSW0z3QYd",
        "TkClDjPvaTiO",
        "IB9dxWK02J-T",
        "xPYoJ1jUQk7w"
      ],
      "toc_visible": true
    },
    "kernelspec": {
      "display_name": "Python 3",
      "language": "python",
      "name": "python3"
    },
    "language_info": {
      "codemirror_mode": {
        "name": "ipython",
        "version": 3
      },
      "file_extension": ".py",
      "mimetype": "text/x-python",
      "name": "python",
      "nbconvert_exporter": "python",
      "pygments_lexer": "ipython3",
      "version": "3.7.0"
    }
  },
  "cells": [
    {
      "cell_type": "markdown",
      "metadata": {
        "id": "hfLA-aeFrg-f"
      },
      "source": [
        "# Installations and Imports"
      ]
    },
    {
      "cell_type": "code",
      "metadata": {
        "id": "CYEHJIyk74fe"
      },
      "source": [
        "#utilizing the transformers package - typically need to install at every colab session \n",
        "!pip install transformers"
      ],
      "execution_count": null,
      "outputs": []
    },
    {
      "cell_type": "code",
      "metadata": {
        "id": "ZxmPFra32Rba"
      },
      "source": [
        "from glob import glob\n",
        "from tqdm import tqdm\n",
        "import pandas as pd\n",
        "import random\n",
        "import json\n",
        "import os\n",
        "\n",
        "\n",
        "import torch\n",
        "from torch.utils.data import Dataset, DataLoader\n",
        "from transformers import LayoutLMForTokenClassification\n",
        "from transformers import LayoutLMModel, LayoutLMConfig, LayoutLMTokenizer\n",
        "from torch.nn.functional import pad\n",
        "\n",
        "from google.colab import auth\n",
        "\n",
        "import numpy as np\n",
        "import seaborn as sns\n",
        "from PIL import Image, ImageDraw, ImageFont\n",
        "\n",
        "from torch.nn import CrossEntropyLoss"
      ],
      "execution_count": 2,
      "outputs": []
    },
    {
      "cell_type": "code",
      "metadata": {
        "colab": {
          "base_uri": "https://localhost:8080/",
          "height": 35
        },
        "id": "ypVuCuJR2RcH",
        "outputId": "8f2e972e-73fe-487e-f8bd-3761363dba3d"
      },
      "source": [
        "#Checking the torch version\n",
        "torch.__version__"
      ],
      "execution_count": null,
      "outputs": [
        {
          "output_type": "execute_result",
          "data": {
            "application/vnd.google.colaboratory.intrinsic+json": {
              "type": "string"
            },
            "text/plain": [
              "'1.8.1+cu101'"
            ]
          },
          "metadata": {
            "tags": []
          },
          "execution_count": 4
        }
      ]
    },
    {
      "cell_type": "markdown",
      "metadata": {
        "id": "1vkKSW0z3QYd"
      },
      "source": [
        "# Dividing into Test and Train"
      ]
    },
    {
      "cell_type": "code",
      "metadata": {
        "id": "EGIkzkD-ue1B"
      },
      "source": [
        "# original folder organization; if not using this format, adjust divide_test_train() and recombine_test_train() accordingly\n",
        "# apm\n",
        "# ├── annotations/\n",
        "# ├── metadata/\n",
        "# ├── images/\n",
        "# └── train/\n",
        "#    ├── annotations/\n",
        "#    ├── metadata/\n",
        "#    ├── images/\n",
        "# └── test/\n",
        "#    ├── annotations/\n",
        "#    ├── metadata/\n",
        "#    ├── images/\n",
        "# └── errors/\n",
        "\n"
      ],
      "execution_count": 1,
      "outputs": []
    },
    {
      "cell_type": "code",
      "metadata": {
        "id": "rnFZSXS02RcN"
      },
      "source": [
        "def divide_test_train():\n",
        "    # Function to divide data in test train\n",
        "    annotations_files = sorted(glob('apm/annotations/' + '*.csv'))\n",
        "    metadata_files = sorted(glob('apm/metadata/' + '*.json'))\n",
        "    image_files = sorted(glob('apm/images/' + '*.png'))\n",
        "    \n",
        "    for annotation, metadata, image in zip(annotations_files, metadata_files, image_files):\n",
        "        # Put annotation in train with prob .8 and in test with prob .2\n",
        "        rand_number = random.uniform(0,1)\n",
        "        if rand_number <= .8:  \n",
        "            os.rename(annotation, \"apm/train/annotations/{}\".format(annotation[-40:]))\n",
        "            os.rename(metadata, \"apm/train/metadata/{}\".format(metadata[-41:]))\n",
        "            os.rename(image, \"apm/train/images/{}\".format(image[-40:]))\n",
        "        else:\n",
        "            os.rename(annotation, \"apm/test/annotations/{}\".format(annotation[-40:]))\n",
        "            os.rename(metadata, \"apm/test/metadata/{}\".format(metadata[-41:]))\n",
        "            os.rename(image, \"apm/test/images/{}\".format(image[-40:]))"
      ],
      "execution_count": null,
      "outputs": []
    },
    {
      "cell_type": "code",
      "metadata": {
        "id": "0JyOTaPMbalz"
      },
      "source": [
        "divide_test_train()"
      ],
      "execution_count": null,
      "outputs": []
    },
    {
      "cell_type": "code",
      "metadata": {
        "colab": {
          "base_uri": "https://localhost:8080/"
        },
        "id": "t2O3eBCp2RcP",
        "outputId": "a0425a4a-fb18-4304-a3c4-868feae1cd98"
      },
      "source": [
        "# Sanity check - printing the number of items in the training and testing files\n",
        "annotations_train_files = sorted(glob('apm/train/annotations/' + '/*.csv'))\n",
        "annotations_test_files = sorted(glob('apm/test/annotations/' + '/*.csv'))\n",
        "counter_train = 0\n",
        "for train_example in annotations_train_files:\n",
        "    counter_train += 1\n",
        "\n",
        "counter_test = 0\n",
        "for test_example in annotations_test_files:\n",
        "    counter_test += 1\n",
        "\n",
        "print(counter_train, counter_test, counter_train+counter_test)"
      ],
      "execution_count": null,
      "outputs": [
        {
          "output_type": "stream",
          "text": [
            "6786 605 7391\n"
          ],
          "name": "stdout"
        }
      ]
    },
    {
      "cell_type": "code",
      "metadata": {
        "id": "BIXK9h6SDEde"
      },
      "source": [
        "# resetting training and test data back into original folders - use as needed\n",
        "def recombine_test_train():\n",
        "    # move test data back into original folders\n",
        "    annotations_files = sorted(glob('apm/test/annotations/' + '*.csv'))\n",
        "    metadata_files = sorted(glob('apm/test/metadata/' + '*.json'))\n",
        "    image_files = sorted(glob('apm/test/images/' + '*.png'))\n",
        "    \n",
        "    for annotation, metadata, image in zip(annotations_files, metadata_files, image_files):\n",
        "        os.rename(annotation, \"apm/annotations/{}\".format(annotation[-40:]))\n",
        "        os.rename(metadata, \"apm/metadata/{}\".format(metadata[-41:]))\n",
        "        os.rename(image, \"apm/images/{}\".format(image[-40:]))\n",
        "    \n",
        "    # move train data back into original folders\n",
        "    annotations_files = sorted(glob('apm/train/annotations/' + '*.csv'))\n",
        "    metadata_files = sorted(glob('apm/train/metadata/' + '*.json'))\n",
        "    image_files = sorted(glob('apm/train/images/' + '*.png'))\n",
        "    \n",
        "    for annotation, metadata, image in zip(annotations_files, metadata_files, image_files):\n",
        "        os.rename(annotation, \"apm/annotations/{}\".format(annotation[-40:]))\n",
        "        os.rename(metadata, \"apm/metadata/{}\".format(metadata[-41:]))\n",
        "        os.rename(image, \"apm/images/{}\".format(image[-40:]))\n",
        "        "
      ],
      "execution_count": null,
      "outputs": []
    },
    {
      "cell_type": "code",
      "metadata": {
        "id": "MKVyoVonDUvT"
      },
      "source": [
        "# recombine_test_train()"
      ],
      "execution_count": null,
      "outputs": []
    },
    {
      "cell_type": "markdown",
      "metadata": {
        "id": "TkClDjPvaTiO"
      },
      "source": [
        "# Dataloader"
      ]
    },
    {
      "cell_type": "code",
      "metadata": {
        "colab": {
          "base_uri": "https://localhost:8080/"
        },
        "id": "IzRfdrQjz4wT",
        "outputId": "6a01603b-e176-4e5c-a5e1-861e20d1df39"
      },
      "source": [
        "labels = [\"Other\",\"Total\", \"Invoice_ID\"]\n",
        "label_map = {i: label for i, label in enumerate(labels)}\n",
        "type(label_map)"
      ],
      "execution_count": null,
      "outputs": [
        {
          "output_type": "execute_result",
          "data": {
            "text/plain": [
              "dict"
            ]
          },
          "metadata": {
            "tags": []
          },
          "execution_count": 86
        }
      ]
    },
    {
      "cell_type": "code",
      "metadata": {
        "id": "XkDdxaXk0SUp"
      },
      "source": [
        "# Define Tokenizer\n",
        "tokenizer = LayoutLMTokenizer.from_pretrained(\"microsoft/layoutlm-base-uncased\", max_seq_length = 512)"
      ],
      "execution_count": null,
      "outputs": []
    },
    {
      "cell_type": "code",
      "metadata": {
        "id": "4KJX6FjDYxQs"
      },
      "source": [
        "#to store a tokenized \n",
        "class Invoice_Tokenized():\n",
        "  def __init__ (self, csv_name, encoding, bbox, token_labels, token_actual_boxes):\n",
        "    self.input_ids = encoding[\"input_ids\"]\n",
        "    self.attention_mask = encoding[\"attention_mask\"]\n",
        "    self.token_type_ids = encoding[\"token_type_ids\"]\n",
        "    self.bbox = bbox\n",
        "    self.token_labels = token_labels\n",
        "    self.csv_name = csv_name\n",
        "    self.token_actual_boxes = token_actual_boxes\n",
        "    self.items = [self.input_ids, self.token_type_ids, self.attention_mask, self.token_labels, self.bbox, self.csv_name, self.token_actual_boxes]\n",
        "  \n",
        "  def __getitem__(self, idx):\n",
        "    order = [\"input_ids\", \"token_type_ids\", \"attention_mask\", \"token_labels\", \"bbox\", \"csv\", \"token_actual_boxes\"]\n",
        "    return order[idx], self.items[idx]"
      ],
      "execution_count": null,
      "outputs": []
    },
    {
      "cell_type": "code",
      "metadata": {
        "id": "OjnvSP3KcTQr"
      },
      "source": [
        "#for new Dataloader\n",
        "class total_invoiceid_not_found(Exception):\n",
        "    pass\n",
        "\n",
        "# the data we utilized had the ground truth in a json metadata file where the \n",
        "# InvoiceID was referenced as IMI_REFERENCE and the Total amount was referenced\n",
        "# as AMOUNT\n",
        "def preprocess_indiv_files(csv, annotation, metadata):\n",
        "        '''\n",
        "        input: \n",
        "        csv : name of the annotations csv file; to ensure that the invoice files and the data are corresponding properly\n",
        "        annotation: dataframe that contains all the text and the relative location bounding boxes for a singular invoice;\n",
        "        metadata: json file that contains the ground truth values as provided to the team; Total amount: AMOUNT; InvoiceID: INVOICE_CHECK_MEMO\n",
        "        \n",
        "        concatenates a ground truth label column to the annotation dataframe:\n",
        "        '''   \n",
        "        \n",
        "        annotation['Label'] = None\n",
        "        find_invoice = False\n",
        "        find_total = False\n",
        "        \n",
        "        for i in annotation.index:\n",
        "            if annotation.loc[i,'content'] == str(metadata[\"INVOICE_CHECK_MEMO\"]):\n",
        "                find_invoice = True\n",
        "                annotation.loc[i,'Label'] = \"Invoice_ID\"\n",
        "            elif annotation.loc[i,'content'] == str(metadata[\"AMOUNT\"]):\n",
        "                find_total = True\n",
        "                annotation.loc[i,'Label'] = \"Total\"\n",
        "            elif annotation.loc[i,'content'] == \"$\" + str(metadata[\"AMOUNT\"]): \n",
        "                find_total = True\n",
        "                annotation.loc[i,'Label'] = \"Total\"\n",
        "                annotation.loc[i,'content'] = annotation.loc[i,'content'][1:]\n",
        "            else:\n",
        "                annotation.loc[i,'Label'] = \"Other\"\n",
        "        \n",
        "        if not (find_total or find_invoice):\n",
        "            raise total_invoiceid_not_found()\n",
        "            \n",
        "        words = []\n",
        "        token_boxes = [[0,0,0,0]]\n",
        "        token_actual_boxes = [[0,0, 0, 0]] \n",
        "        token_labels = [-100] # CLS token\n",
        "        \n",
        "        annotation = annotation.to_numpy()\n",
        "        \n",
        "        # many of the bounding boxes in the invoices don't follow the top_left_x < bottom_right_x and top_left_y > bottom_right_y rule; \n",
        "        # filtering those cases out\n",
        "        for row in annotation:   \n",
        "            if(row[1] - row[0] < 0 or row[3] - row[2] < 0 or row[0] > row[4]\\\n",
        "                    or row[1] > row[4] or row[2] > row[5] or row[3] > row[5]):\n",
        "                continue\n",
        "            word_tokens = tokenizer.tokenize(row[6])\n",
        "\n",
        "            # truncate overall sequence length to 512 (starting token + 510 + ending token)\n",
        "            # this is due to the BERT limit of 512 sequence length\n",
        "            if(len(token_boxes) + len(word_tokens) >= 511):\n",
        "                break\n",
        "            words.append(row[6])\n",
        "            if not(row[1] - row[0] > 0) or not(row[3] - row[2] > 0) or\\\n",
        "              not(int(row[0]/row[4]*1000) <= 1000 and int(row[0]/row[4]*1000)>0) or\\\n",
        "              not (int(row[2]/row[5]*1000) <= 1000 and int(row[2]/row[5]*1000) > 0) or\\\n",
        "              not (int(row[1]/row[4]*1000) <= 1000 and int(row[1]/row[4]*1000) > 0) or\\\n",
        "              not (int(row[3]/row[5]*1000) <= 1000 and int(row[3]/row[5]*1000) > 0):\n",
        "                continue\n",
        "            assert (row[1] - row[0]) > 0, \"Wrong bounding boxes-x {} {}\".format(row[1]-row[0], row)\n",
        "            assert (row[3] - row[2]) > 0, \"Wrong bounding boxes-y {} {}\".format(row[3]-row[2], row)\n",
        "            actual_box = [row[0], row[2], row[1], row[3]]\n",
        "            assert (int(row[0]/row[4]*1000) <= 1000 and int(row[0]/row[4]*1000)>0)\n",
        "            assert (int(row[2]/row[5]*1000) <= 1000 and int(row[2]/row[5]*1000) > 0)\n",
        "            assert (int(row[1]/row[4]*1000) <= 1000 and int(row[1]/row[4]*1000) > 0)\n",
        "            assert (int(row[3]/row[5]*1000) <= 1000 and int(row[3]/row[5]*1000) > 0)\n",
        "            box = [int(row[0]/row[4]*1000), int(row[2]/row[5]*1000), int(row[1]/row[4]*1000), int(row[3]/row[5]*1000)]\n",
        "            token_boxes.extend([box] * len(word_tokens))\n",
        "            token_actual_boxes.extend([actual_box] * len(word_tokens))\n",
        "\n",
        "            #Labels of 0: Other; 1: Total; 2: Invoice_ID\n",
        "            token_labels.extend([2 if row[-1]==\"Invoice_ID\" else (1 if row[-1]==\"Total\" else 0)] * len(word_tokens))\n",
        "          \n",
        "\n",
        "        encoding = tokenizer(' '.join(words), padding=\"max_length\", truncation=True, return_tensors='pt')\n",
        "        \n",
        "        token_boxes = token_boxes + [[1000, 1000, 1000, 1000]]+[[0,0,0,0]]*(512-len(token_boxes)-1)\n",
        "        token_actual_boxes = token_actual_boxes + [[1000, 1000, 1000, 1000]]+[[0,0,0,0]]*(512-len(token_actual_boxes)-1)\n",
        "        token_labels.append(0) # SEP token\n",
        "        if(len(token_labels)<512):\n",
        "            token_labels.extend([-100]*(512-len(token_labels)))\n",
        "        return Invoice_Tokenized(csv, encoding, torch.tensor([token_boxes]), torch.tensor([token_labels]), torch.tensor([token_actual_boxes]))  #encoding, bbox, token_labels"
      ],
      "execution_count": null,
      "outputs": []
    },
    {
      "cell_type": "code",
      "metadata": {
        "id": "jsfDvfdJzUS4"
      },
      "source": [
        "def preprocess(annotations_folder, metadata_folder):\n",
        "        '''\n",
        "        input: annotations_folder_path, metadata_folder_path\n",
        "        assumes that the corresponding annotations and metadata are present and have the same order in their directories\n",
        "        '''\n",
        "        annotations_files = sorted(glob(annotations_folder + '/*.csv'))\n",
        "        metadata_files = sorted(glob(metadata_folder + '/*.json'))\n",
        "        annotations = []\n",
        "        #process each individual file; if malformed file or no corresponding InvoiceID AND Total ground truth, then skip\n",
        "        for idx, csv in enumerate(annotations_files):  \n",
        "          try:       \n",
        "            annotation = pd.read_csv(csv, index_col=0)\n",
        "            metadata = json.load(open(metadata_files[idx], \"r\"))\n",
        "            invoice = preprocess_indiv_files(csv, annotation, metadata)\n",
        "            \n",
        "            annotations.append(invoice)\n",
        "          except total_invoiceid_not_found:\n",
        "            print(\"IDX WITH NO Invoice_ID and NO Total: \", idx)\n",
        "            continue\n",
        "          except:\n",
        "            print(\"IDX WHERE ERRORING: \", idx)\n",
        "            continue\n",
        "        return annotations\n"
      ],
      "execution_count": 1,
      "outputs": []
    },
    {
      "cell_type": "code",
      "metadata": {
        "id": "U3cNCiNjGrXV"
      },
      "source": [
        "#new DataLoader\n",
        "\n",
        "# Define pytorch Dataset\n",
        "\n",
        "class InvoiceDataset(Dataset):\n",
        "\n",
        "    def __init__(self, root_directory):\n",
        "        self.annotations_folder = root_directory + '/annotations/'\n",
        "        self.metadata_folder = root_directory + '/metadata/'\n",
        "        \n",
        "        self.annotations = preprocess(self.annotations_folder, self.metadata_folder)\n",
        "        self.sequence_length = 512\n",
        "              \n",
        "    def __len__(self):\n",
        "        return len(self.annotations)\n",
        "    \n",
        "\n",
        "    def __getitem__(self, idx):\n",
        "        item = self.annotations[idx]\n",
        "        return item[0][1], item[1][1], item[2][1], item[3][1], item[4][1], item[5][1], item[6][1]   #input_ids, token_type_ids, attention_mask, token_labels, bbox\n"
      ],
      "execution_count": null,
      "outputs": []
    },
    {
      "cell_type": "markdown",
      "metadata": {
        "id": "IB9dxWK02J-T"
      },
      "source": [
        "# Model Code"
      ]
    },
    {
      "cell_type": "code",
      "metadata": {
        "id": "Cbsj7LKu0djV"
      },
      "source": [
        "device = torch.device(\"cuda\" if torch.cuda.is_available() else \"cpu\")\n",
        "\n",
        "# Define model\n",
        "model = LayoutLMForTokenClassification.from_pretrained(\"microsoft/layoutlm-base-uncased\", num_labels=3)\n",
        "model.to(device)"
      ],
      "execution_count": null,
      "outputs": []
    },
    {
      "cell_type": "code",
      "metadata": {
        "id": "Az-LbD_G4Cbc"
      },
      "source": [
        "# Initialize Dataset\n",
        "root_directory_train = './apm/train'\n",
        "\n",
        "#creating dataloader for the model as to not overwhelm the model with too much data at one time\n",
        "invoice_dataset = InvoiceDataset(root_directory_train)\n",
        "train_dataloader = DataLoader(invoice_dataset, batch_size=1) #can adjust batch size"
      ],
      "execution_count": null,
      "outputs": []
    },
    {
      "cell_type": "code",
      "metadata": {
        "colab": {
          "base_uri": "https://localhost:8080/"
        },
        "id": "rvQZA10T2Rcp",
        "outputId": "f3de5b38-6e1f-43cb-bad8-f1e772e85331"
      },
      "source": [
        "print(len(train_dataloader), device)"
      ],
      "execution_count": null,
      "outputs": [
        {
          "output_type": "stream",
          "text": [
            "6360 cuda\n"
          ],
          "name": "stdout"
        }
      ]
    },
    {
      "cell_type": "code",
      "metadata": {
        "id": "CHHCtTmE1iSL",
        "scrolled": true
      },
      "source": [
        "# Training\n",
        "\n",
        "from transformers import AdamW\n",
        "from tqdm import tqdm\n",
        "\n",
        "optimizer = AdamW(model.parameters(), lr=5e-5)\n",
        "\n",
        "global_step = 0\n",
        "num_train_epochs = 5 #number of epochs\n",
        "loss_per_100 = []\n",
        "t_total = len(train_dataloader) * num_train_epochs # total number of training steps \n",
        "\n",
        "count_wrong_forwards = 0\n",
        "#put the model in training mode\n",
        "model.train()\n",
        "for epoch in range(num_train_epochs):\n",
        "    for batch in tqdm(train_dataloader, desc=\"Training\"):\n",
        "        optimizer.zero_grad()\n",
        "        #input_ids, token_type_ids, attention_mask, token_labels, bbox\n",
        "        input_ids = batch[0].to(device)\n",
        "        token_type_ids = batch[1].to(device)\n",
        "        attention_mask = batch[2].to(device)\n",
        "        token_labels = batch[3].to(device)\n",
        "        bbox = batch[4].to(device).squeeze(0)\n",
        "        invoice_name = batch[5]\n",
        "        try:\n",
        "            outputs = model(input_ids = input_ids.squeeze(0), token_type_ids = token_type_ids.squeeze(0),\\\n",
        "                            attention_mask = attention_mask.squeeze(0),\\\n",
        "                            bbox = bbox, labels = token_labels.squeeze(0))        \n",
        "        except:\n",
        "            count_wrong_forwards += 1\n",
        "            print(\"This invoice has an error: \", invoice_name)\n",
        "            print(bbox.type(), bbox.shape)\n",
        "            continue\n",
        "        loss = outputs.loss\n",
        "\n",
        "        # print loss every 100 steps\n",
        "        if global_step % 100 == 0:\n",
        "            loss_per_100.append(loss.item())\n",
        "            print(f\"Loss after {global_step} steps: {loss.item()}\")\n",
        "\n",
        "        # backward pass \n",
        "        loss.backward()\n",
        "\n",
        "        # update\n",
        "        optimizer.step()\n",
        "        \n",
        "        global_step += 1"
      ],
      "execution_count": null,
      "outputs": []
    },
    {
      "cell_type": "code",
      "metadata": {
        "id": "TDe3-W5N2Rcr",
        "colab": {
          "base_uri": "https://localhost:8080/"
        },
        "outputId": "41b70cf6-c368-46fd-af7e-1b51d426bb0c"
      },
      "source": [
        "print(\"Number or examples that weren't processed: \", int(count_wrong_forwards/num_train_epochs))\n",
        "print(\"Number of steps: \", global_step)"
      ],
      "execution_count": null,
      "outputs": [
        {
          "output_type": "stream",
          "text": [
            "Number or examples that weren't processed:  0\n",
            "Number of steps:  31800\n"
          ],
          "name": "stdout"
        }
      ]
    },
    {
      "cell_type": "code",
      "metadata": {
        "id": "te-i6TaJ2Rcs"
      },
      "source": [
        "# Save model so that don't need to rerun model training every time it's utilized\n",
        "torch.save(model.state_dict(), \"tot_id_model\")"
      ],
      "execution_count": null,
      "outputs": []
    },
    {
      "cell_type": "code",
      "metadata": {
        "colab": {
          "base_uri": "https://localhost:8080/",
          "height": 321
        },
        "id": "bS2WLcMu2Rcs",
        "outputId": "29b8b2a1-7171-403d-8737-019b8ef9698f"
      },
      "source": [
        "#Visualizing the loss over the training steps\n",
        "sns.set()\n",
        "loss_per_100 = np.array(loss_per_100)\n",
        "steps_per_100 = np.arange(0, len(loss_per_100)*100, 100)\n",
        "print(len(loss_per_100), len(steps_per_100))\n",
        "sns.lineplot(x=steps_per_100, y=loss_per_100).set_title(\"Loss over training steps\", fontsize=15)"
      ],
      "execution_count": null,
      "outputs": [
        {
          "output_type": "stream",
          "text": [
            "318 318\n"
          ],
          "name": "stdout"
        },
        {
          "output_type": "execute_result",
          "data": {
            "text/plain": [
              "Text(0.5, 1.0, 'Loss over training steps')"
            ]
          },
          "metadata": {
            "tags": []
          },
          "execution_count": 28
        },
        {
          "output_type": "display_data",
          "data": {
            "image/png": "[encoded data removed]",
            "text/plain": [
              "<Figure size 432x288 with 1 Axes>"
            ]
          },
          "metadata": {
            "tags": []
          }
        }
      ]
    },
    {
      "cell_type": "markdown",
      "metadata": {
        "id": "xPYoJ1jUQk7w"
      },
      "source": [
        "# Evaluation"
      ]
    },
    {
      "cell_type": "code",
      "metadata": {
        "id": "wC7iN4sQ2Rct"
      },
      "source": [
        "# Load model\n",
        "model = LayoutLMForTokenClassification.from_pretrained(\"microsoft/layoutlm-base-uncased\", num_labels=3)\n",
        "device = torch.device(\"cuda\" if torch.cuda.is_available() else \"cpu\")\n",
        "model.load_state_dict(torch.load(\"tot_id_model\"))  \n",
        "model.to(device)\n",
        "model.eval()"
      ],
      "execution_count": null,
      "outputs": []
    },
    {
      "cell_type": "code",
      "metadata": {
        "id": "bvXiBtOZT0p0"
      },
      "source": [
        "#creating dataloader for the evaluation with test data\n",
        "root_directory_test = \"./apm/test/\"\n",
        "invoice_dataset_test = InvoiceDataset(root_directory_test)\n",
        "eval_dataloader = DataLoader(invoice_dataset_test, batch_size=1)"
      ],
      "execution_count": null,
      "outputs": []
    },
    {
      "cell_type": "code",
      "metadata": {
        "id": "gkh5Z_dz5FYy"
      },
      "source": [
        "len(eval_dataloader)"
      ],
      "execution_count": null,
      "outputs": []
    },
    {
      "cell_type": "markdown",
      "metadata": {
        "id": "llUhfByF_yy5"
      },
      "source": [
        "## Ternary Labels "
      ]
    },
    {
      "cell_type": "code",
      "metadata": {
        "colab": {
          "base_uri": "https://localhost:8080/"
        },
        "id": "4WOXq82O_wHc",
        "outputId": "65175727-68da-4783-8f56-05ca248c4bff"
      },
      "source": [
        "eval_loss = 0.0\n",
        "nb_eval_steps = 0\n",
        "preds = None\n",
        "out_label_ids = None\n",
        "num_not_used = 0\n",
        "\n",
        "# put model in evaluation mode\n",
        "model.eval()\n",
        "for batch in tqdm(eval_dataloader, desc=\"Evaluating\"):\n",
        "    with torch.no_grad():\n",
        "        input_ids = batch[0].to(device)\n",
        "        token_type_ids = batch[1].to(device)\n",
        "        attention_mask = batch[2].to(device)\n",
        "        token_labels = batch[3].to(device)\n",
        "        bbox = batch[4].to(device)\n",
        "        invoice_name = batch[5]\n",
        "\n",
        "        try:\n",
        "            outputs = model(input_ids = input_ids.squeeze(0), token_type_ids = token_type_ids.squeeze(0),\\\n",
        "                            attention_mask = attention_mask.squeeze(0), labels = token_labels.squeeze(0),\\\n",
        "                            bbox = bbox.squeeze(0))\n",
        "        except:\n",
        "            print(bbox, invoice_name)\n",
        "            num_not_used += 1\n",
        "            continue\n",
        "        # get the loss and logits\n",
        "        tmp_eval_loss = outputs.loss\n",
        "        logits = outputs.logits\n",
        "        eval_loss += tmp_eval_loss.item()\n",
        "        nb_eval_steps += 1\n",
        "        # compute the predictions\n",
        "        if preds is None:\n",
        "            preds = logits.detach().cpu().numpy()\n",
        "            out_label_ids = token_labels.detach().cpu().numpy()\n",
        "        else:\n",
        "            preds = np.append(preds, logits.detach().cpu().numpy(), axis=0)\n",
        "            out_label_ids = np.append(out_label_ids, token_labels.detach().cpu().numpy(), axis=0)\n",
        "\n",
        "print(num_not_used)\n",
        "# compute average evaluation loss\n",
        "eval_loss = eval_loss / nb_eval_steps\n",
        "print(\"Eval_loss: \", round(eval_loss, 3))\n",
        "preds = np.argmax(preds, axis=2) # getting a singular prediction for each bounding box in each invoice from the evaluation data\n",
        "out_label_ids = out_label_ids.squeeze(1)"
      ],
      "execution_count": null,
      "outputs": [
        {
          "output_type": "stream",
          "text": [
            "Evaluating: 100%|██████████| 573/573 [00:20<00:00, 27.40it/s]"
          ],
          "name": "stderr"
        },
        {
          "output_type": "stream",
          "text": [
            "0\n",
            "Eval_loss:  0.013\n"
          ],
          "name": "stdout"
        },
        {
          "output_type": "stream",
          "text": [
            "\n"
          ],
          "name": "stderr"
        }
      ]
    },
    {
      "cell_type": "code",
      "metadata": {
        "colab": {
          "base_uri": "https://localhost:8080/"
        },
        "id": "5pxAUuia_7ye",
        "outputId": "e6dd4214-cc3a-4b1a-f410-b1ff1a875ec6"
      },
      "source": [
        "labels = [\"Total\",\"Invoice_ID\", \"Other\"]\n",
        "label_map = {i: label for i, label in enumerate(labels)}\n",
        "pad_token_label_id = CrossEntropyLoss().ignore_index\n",
        "print(labels, label_map, pad_token_label_id)"
      ],
      "execution_count": null,
      "outputs": [
        {
          "output_type": "stream",
          "text": [
            "['Total', 'Invoice_ID', 'Other'] {0: 'Total', 1: 'Invoice_ID', 2: 'Other'} -100\n"
          ],
          "name": "stdout"
        }
      ]
    },
    {
      "cell_type": "code",
      "metadata": {
        "colab": {
          "base_uri": "https://localhost:8080/"
        },
        "id": "QDOjMeb9iyEt",
        "outputId": "220b3924-bf27-40dc-f4e1-25b98587fab0"
      },
      "source": [
        "#getting the corresponding labels for the numeric classifications\n",
        "out_label_list = [[] for _ in range(out_label_ids.shape[0])]\n",
        "preds_list = [[] for _ in range(out_label_ids.shape[0])]\n",
        "\n",
        "for i in range(out_label_ids.shape[0]): #for each invoice\n",
        "    for j in range(out_label_ids.shape[1]): #for each point in the invoice\n",
        "        if (out_label_ids[i][j] != pad_token_label_id): \n",
        "            out_label_list[i].append(label_map[out_label_ids[i][j]])\n",
        "            preds_list[i].append(label_map[preds[i][j]])\n",
        "\n",
        "print(eval_loss)\n",
        "print(num_not_used)"
      ],
      "execution_count": null,
      "outputs": [
        {
          "output_type": "stream",
          "text": [
            "0.01266757901004202\n",
            "0\n"
          ],
          "name": "stdout"
        }
      ]
    },
    {
      "cell_type": "code",
      "metadata": {
        "colab": {
          "base_uri": "https://localhost:8080/"
        },
        "id": "qdTF5stSBAUI",
        "outputId": "5e2f017e-385a-4103-9a83-cfe2eb12d7f0"
      },
      "source": [
        "np.any(preds == 0) and np.any(preds == 1) and np.any(preds == 2) #sanity check to ensure the model is working properly"
      ],
      "execution_count": null,
      "outputs": [
        {
          "output_type": "execute_result",
          "data": {
            "text/plain": [
              "True"
            ]
          },
          "metadata": {
            "tags": []
          },
          "execution_count": 25
        }
      ]
    },
    {
      "cell_type": "code",
      "metadata": {
        "id": "G3Rv7GwRA7Hi"
      },
      "source": [
        "matrix = np.zeros((3,3)) #confusion matrix where rows are predicted and columns are actual\n",
        "\n",
        "for i in range(out_label_ids.shape[0]): #for each invoice\n",
        "  for j in range(out_label_ids.shape[1]): #for each point in the invoice\n",
        "    if (out_label_ids[i][j] != pad_token_label_id): #if doesn't equal the dummy variable\n",
        "      matrix[ preds[i][j] , out_label_ids[i][j] ] +=1"
      ],
      "execution_count": null,
      "outputs": []
    },
    {
      "cell_type": "code",
      "metadata": {
        "colab": {
          "base_uri": "https://localhost:8080/",
          "height": 284
        },
        "id": "bYghZ21P2NrU",
        "outputId": "ed06196b-a637-4130-9bbb-e15e911179be"
      },
      "source": [
        "#Visualizing the confusion matrix\n",
        "sns.set()\n",
        "cf_matrix = matrix.flatten()\n",
        "group_names = [   \"True 'Other'\",  \"False 'Total'\", \"False 'Invoice_ID'\",  \\\n",
        "                  \"False 'Other'\", \"True 'Total'\",  \"False 'Invoice_ID'\",  \\\n",
        "                  \"False 'Other'\", \"False 'Total'\", \"True 'Invoice_ID'\"    ]\n",
        "group_counts = [\"{0:0.0f}\".format(value) for value in cf_matrix]\n",
        "group_percentages = [\"{0:.2%}\".format(value) for value in\n",
        "                     cf_matrix/np.sum(cf_matrix)]\n",
        "labels = [f\"{v1}\\n{v2}\\n{v3}\" for v1, v2, v3 in\n",
        "          zip(group_names,group_counts,group_percentages)]\n",
        "labels = np.asarray(labels).reshape(3,3)\n",
        "cnfmatr = sns.heatmap(matrix, annot=labels, fmt=\"\", cmap=\"Blues\", cbar = False)\n",
        "cnfmatr = cnfmatr.set_title(\"Confusion Matrix for Ternary Classification\")"
      ],
      "execution_count": null,
      "outputs": [
        {
          "output_type": "display_data",
          "data": {
            "image/png": "[encoded data removed]",
            "text/plain": [
              "<Figure size 432x288 with 1 Axes>"
            ]
          },
          "metadata": {
            "tags": []
          }
        }
      ]
    },
    {
      "cell_type": "code",
      "metadata": {
        "colab": {
          "base_uri": "https://localhost:8080/"
        },
        "id": "wJlPid6bBQB7",
        "outputId": "99d5bb9c-ec06-4738-977b-8abe84a1c0ac"
      },
      "source": [
        "#metrics for Total\n",
        "matrix_without_total = np.delete(matrix, 1,1)\n",
        "matrix_without_total = np.delete(matrix_without_total, 1,0)\n",
        "\n",
        "tot_true_positives = matrix[1,1]\n",
        "tot_true_negatives = np.sum(matrix_without_total)\n",
        "tot_false_positives = np.sum(matrix[1,:]) - matrix[1,1]\n",
        "tot_false_negatives = np.sum(matrix[:,1]) - matrix[1,1]\n",
        "\n",
        "tot_precision = tot_true_positives/(tot_true_positives+tot_false_positives)\n",
        "tot_recall = tot_true_positives/(tot_true_positives+tot_false_negatives)\n",
        "tot_accuracy = (tot_true_positives+tot_true_negatives)/(tot_true_positives+tot_true_negatives+tot_false_negatives+tot_false_positives)\n",
        "tot_f1 = 2*(tot_precision*tot_recall)/(tot_precision+tot_recall)\n",
        "\n",
        "# print(matrix)\n",
        "\n",
        "\n",
        "print(\"Metrics for Total Values\")\n",
        "print(\"Precision:\", round(tot_precision,3))\n",
        "print(\"Recall:\", round(tot_recall,3))\n",
        "print(\"Accuracy:\", round(tot_accuracy,3))\n",
        "print(\"F1:\", round(tot_f1,3))\n",
        "\n",
        "\n",
        "print(\"\\n--------\\n\")\n",
        "#metrics for InvoiceID\n",
        "id_true_positives = matrix[2,2]\n",
        "\n",
        "id_true_positives = matrix[2,2]\n",
        "id_true_negatives = np.sum(matrix[:2,:2])\n",
        "id_false_positives = np.sum(matrix[2,:2])\n",
        "id_false_negatives = np.sum(matrix[:2,2])\n",
        "\n",
        "id_precision = id_true_positives/(id_true_positives+id_false_positives)\n",
        "id_recall = id_true_positives/(id_true_positives+id_false_negatives)\n",
        "id_accuracy = (id_true_positives+id_true_negatives)/(id_true_positives+id_true_negatives+id_false_negatives+id_false_positives)\n",
        "id_f1 = 2*(id_precision*id_recall)/(id_precision+id_recall)\n",
        "\n",
        "\n",
        "print(\"Metrics for InvoiceID Values\")\n",
        "print(\"Precision:\", round(id_precision,3))\n",
        "print(\"Recall:\", round(id_recall,3))\n",
        "print(\"Accuracy:\", round(id_accuracy,3))\n",
        "print(\"F1:\", round(id_f1,3))"
      ],
      "execution_count": null,
      "outputs": [
        {
          "output_type": "stream",
          "text": [
            "Metrics for Total Values\n",
            "Precision: 0.957\n",
            "Recall: 0.981\n",
            "Accuracy: 0.999\n",
            "F1: 0.969\n",
            "\n",
            "--------\n",
            "\n",
            "Metrics for InvoiceID Values\n",
            "Precision: 0.935\n",
            "Recall: 0.994\n",
            "Accuracy: 0.998\n",
            "F1: 0.964\n"
          ],
          "name": "stdout"
        }
      ]
    },
    {
      "cell_type": "code",
      "metadata": {
        "colab": {
          "base_uri": "https://localhost:8080/"
        },
        "id": "TX8k2UqfBxnU",
        "outputId": "07efac76-7517-4595-c4bc-fa81201247f0"
      },
      "source": [
        "#Printing the True/False Postitives/Negatives for Both Classifications\n",
        "print(matrix, '\\n')\n",
        "print(\"tot_true_negatives: \",tot_true_negatives)\n",
        "print(\"tot_true_positives: \", tot_true_positives)\n",
        "print(\"tot_false_negatives: \", tot_false_negatives)\n",
        "print(\"tot_false_positives: \",tot_false_positives)\n",
        "print()\n",
        "print(\"id_true_negatives: \",id_true_negatives)\n",
        "print(\"id_true_positives: \", id_true_positives)\n",
        "print(\"id_false_negatives: \", id_false_negatives)\n",
        "print(\"id_false_positives: \",id_false_positives)"
      ],
      "execution_count": null,
      "outputs": [
        {
          "output_type": "stream",
          "text": [
            "[[2.49584e+05 8.00000e+01 3.20000e+01]\n",
            " [1.85000e+02 4.11800e+03 0.00000e+00]\n",
            " [3.82000e+02 0.00000e+00 5.52100e+03]] \n",
            "\n",
            "tot_true_negatives:  255519.0\n",
            "tot_true_positives:  4118.0\n",
            "tot_false_negatives:  80.0\n",
            "tot_false_positives:  185.0\n",
            "\n",
            "id_true_negatives:  253967.0\n",
            "id_true_positives:  5521.0\n",
            "id_false_negatives:  32.0\n",
            "id_false_positives:  382.0\n"
          ],
          "name": "stdout"
        }
      ]
    },
    {
      "cell_type": "code",
      "metadata": {
        "colab": {
          "base_uri": "https://localhost:8080/",
          "height": 375
        },
        "id": "LjEwZGTX-T0D",
        "outputId": "e8ea2343-ae4d-4901-acc2-538cce4c6c3f"
      },
      "source": [
        "#Visualizing the 'Total' Positives - can alter to visualize Positives/Negatives for  Total/Invoice_ID\n",
        "print(tot_true_positives, tot_false_positives)\n",
        "labels_p = np.array([\"True Positives\", \"False Positives\"])\n",
        "values_p = np.array([tot_true_positives, tot_false_positives])\n",
        "tot_pos = sns.barplot(labels_p, values_p)\n",
        "tot_pos = tot_pos.set_title(\"Invoice 'Total' Value Positive Classifications\")\n",
        "tot_pos"
      ],
      "execution_count": null,
      "outputs": [
        {
          "output_type": "stream",
          "text": [
            "4118.0 185.0\n"
          ],
          "name": "stdout"
        },
        {
          "output_type": "stream",
          "text": [
            "/usr/local/lib/python3.7/dist-packages/seaborn/_decorators.py:43: FutureWarning: Pass the following variables as keyword args: x, y. From version 0.12, the only valid positional argument will be `data`, and passing other arguments without an explicit keyword will result in an error or misinterpretation.\n",
            "  FutureWarning\n"
          ],
          "name": "stderr"
        },
        {
          "output_type": "execute_result",
          "data": {
            "text/plain": [
              "Text(0.5, 1.0, \"Invoice 'Total' Value Positive Classifications\")"
            ]
          },
          "metadata": {
            "tags": []
          },
          "execution_count": 59
        },
        {
          "output_type": "display_data",
          "data": {
            "image/png": "[encoded data removed]",
            "text/plain": [
              "<Figure size 432x288 with 1 Axes>"
            ]
          },
          "metadata": {
            "tags": []
          }
        }
      ]
    },
    {
      "cell_type": "markdown",
      "metadata": {
        "id": "RYPq4eQI2Rcz"
      },
      "source": [
        "## Visualize prediction of Random Image"
      ]
    },
    {
      "cell_type": "code",
      "metadata": {
        "id": "0MKZjcSr2Rcz"
      },
      "source": [
        "# Code to generate random number and get that image; if errors, then rerun cell\n",
        "import random\n",
        "batch = None\n",
        "count = 0\n",
        "rand_integer = random.randint(0, len(eval_dataloader))\n",
        "print(\"Random integer is: \", rand_integer)\n",
        "for batch in eval_dataloader:\n",
        "    if count == rand_integer:\n",
        "        break\n",
        "    count += 1\n",
        "\n",
        "input_ids = batch[0].to(device)\n",
        "token_type_ids = batch[1].to(device)\n",
        "attention_mask = batch[2].to(device)\n",
        "token_labels = batch[3].to(device)\n",
        "bbox = batch[4].to(device)\n",
        "invoice_name = batch[5]\n",
        "token_actual_boxes = batch[6].to(device)\n",
        "\n",
        "outputs = model(input_ids = input_ids.squeeze(0), token_type_ids = token_type_ids.squeeze(0),\\\n",
        "                attention_mask = attention_mask.squeeze(0), bbox = bbox.squeeze(0), output_attentions=True)\n",
        "\n",
        "token_actual_boxes = token_actual_boxes.squeeze(0).squeeze(0).tolist()[:-1]\n",
        "input_ids = input_ids.squeeze(0).squeeze(0).tolist()\n",
        "invoice_id = invoice_name[0][24:-4]\n",
        "print(invoice_id)\n",
        "\n",
        "image = Image.open(\"apm/test/images/\" + invoice_id + \".png\")\n",
        "image = image.convert(\"RGB\")\n",
        "\n",
        "\n",
        "cls_token_box=[0, 0, 0, 0]\n",
        "sep_token_box=[1000, 1000, 1000, 1000]\n",
        "pad_token_box=[0, 0, 0, 0]\n",
        "\n",
        "print(\"TOTAL = \", json.load(open(\"apm/test/metadata/\" + invoice_id + \".json\",))['AMOUNT'])\n",
        "print(\"INVOICE_ID = \", json.load(open(\"apm/test/metadata/\" + invoice_id + \".json\",))['INVOICE_CHECK_MEMO'])\n",
        "\n",
        "token_predictions = outputs.logits.argmax(-1).squeeze().tolist() # the predictions are at the token level\n",
        "\n",
        "word_level_predictions = [] # let's turn them into word level predictions\n",
        "final_boxes = []\n",
        "for id, token_pred, box in zip(input_ids, token_predictions, token_actual_boxes):\n",
        "    if (tokenizer.decode([id]).startswith(\"##\")) or (id in [tokenizer.cls_token_id, \n",
        "                                                           tokenizer.sep_token_id, \n",
        "                                                          tokenizer.pad_token_id]):\n",
        "    # skip prediction + bounding box\n",
        "        continue\n",
        "    else:\n",
        "        word_level_predictions.append(token_pred)\n",
        "        final_boxes.append(box)\n",
        "\n",
        "# Visualize image\n",
        "labels = [\"Other\", \"Total\", \"Invoice_ID\"]\n",
        "label_map = {i: label for i, label in enumerate(labels)}\n",
        "\n",
        "\n",
        "# print(label_map)\n",
        "draw = ImageDraw.Draw(image)\n",
        "\n",
        "font = ImageFont.load_default()\n",
        "\n",
        "def iob_to_label(label):\n",
        "    if label == 'Other':\n",
        "        return \"other\"\n",
        "    elif label == \"Total\":\n",
        "        return \"total\"\n",
        "    elif label == \"Invoice_ID\":\n",
        "        return \"invoice_id\"\n",
        "\n",
        "label2color = {'other':'white', 'total':'blue', 'invoice_id':'red'}\n",
        "\n",
        "for prediction, box in zip(word_level_predictions, final_boxes):\n",
        "    predicted_label = iob_to_label(label_map[prediction]).lower()\n",
        "    draw.rectangle(box, outline=label2color[predicted_label])\n",
        "    draw.text((box[0] + 10, box[1] - 10), text=predicted_label, fill=label2color[predicted_label], font=font)\n",
        "\n",
        "image.thumbnail((800, 800))\n",
        "image"
      ],
      "execution_count": null,
      "outputs": []
    },
    {
      "cell_type": "markdown",
      "metadata": {
        "id": "gB0tdLDZ2Rc0"
      },
      "source": [
        "## Visualizing errors"
      ]
    },
    {
      "cell_type": "code",
      "metadata": {
        "id": "eYk-G-w12Rc0"
      },
      "source": [
        "'''\n",
        "Save images with bounding boxes showing \n",
        "where there are errors in ./apm/errors/\n",
        "'''\n",
        "\n",
        "labels = [\"other\", \"total\", \"false negative\", \"false positive\"]\n",
        "label_map = {i: label for i, label in enumerate(labels)}\n",
        "\n",
        "draw = ImageDraw.Draw(image)\n",
        "\n",
        "font = ImageFont.load_default()\n",
        "\n",
        "def iob_to_label(label):\n",
        "    if label != 'other':\n",
        "        return label\n",
        "    else:\n",
        "        return \"other\"\n",
        "\n",
        "label2color = {'other':'blue', 'total':'red', 'false negative': 'black', 'false positive':'orange'}\n",
        "\n",
        "cls_token_box=[0, 0, 0, 0]\n",
        "sep_token_box=[1000, 1000, 1000, 1000]\n",
        "pad_token_box=[0, 0, 0, 0]\n",
        "false_negative_label = 2\n",
        "false_positive_label = 3\n",
        "\n",
        "for batch in eval_dataloader:\n",
        "        \n",
        "    input_ids = batch[0].to(device)\n",
        "    token_type_ids = batch[1].to(device)\n",
        "    attention_mask = batch[2].to(device)\n",
        "    token_labels = batch[3].to(device)\n",
        "    bbox = batch[4].to(device)\n",
        "    invoice_name = batch[5][0][24:-4]\n",
        "    token_actual_boxes = batch[6].to(device)\n",
        "    outputs = model(input_ids = input_ids.squeeze(0), token_type_ids = token_type_ids.squeeze(0), attention_mask = attention_mask.squeeze(0))\n",
        "\n",
        "    token_predictions = outputs.logits.argmax(-1).squeeze().tolist() # the predictions are at the token level\n",
        "    token_actual_boxes = token_actual_boxes.squeeze(0).squeeze(0).tolist()[:-1]\n",
        "    token_labels = token_labels.squeeze().tolist()\n",
        "    \n",
        "    input_ids = input_ids.squeeze(0).squeeze(0).tolist()\n",
        "    \n",
        "    word_level_predictions = [] # let's turn them into word level predictions\n",
        "    final_boxes = []\n",
        "    errors = []\n",
        "    errors_boxes = []\n",
        "    found_error = False\n",
        "    for id, token_pred, box, token_label in zip(input_ids, token_predictions, token_actual_boxes, token_labels):\n",
        "        if (tokenizer.decode([id]).startswith(\"##\")) or (id in [tokenizer.cls_token_id, \n",
        "                                                               tokenizer.sep_token_id, \n",
        "                                                              tokenizer.pad_token_id]):\n",
        "            # skip prediction + bounding box\n",
        "            continue\n",
        "        else:\n",
        "            # If we have an error we can label it differently\n",
        "            if token_pred != token_label:\n",
        "                found_error = True\n",
        "                errors.append(tokenizer.decode([id]))\n",
        "                errors_boxes.append(box)\n",
        "                if token_pred == 0:\n",
        "                    # Predicted negative but it's positive\n",
        "                    word_level_predictions.append(false_negative_label)\n",
        "                elif token_pred == 1:\n",
        "                    # Predicted positive but it's negative\n",
        "                    word_level_predictions.append(false_positive_label)\n",
        "                final_boxes.append(box)\n",
        "                # print(\"Predicted: \", label_map[token_pred], \" Label: \", label_map[token_label], \" Content: \", tokenizer.decode([id]))\n",
        "                continue\n",
        "                \n",
        "            word_level_predictions.append(token_pred)\n",
        "            final_boxes.append(box)\n",
        "\n",
        "    if found_error:\n",
        "        # Visualizing predictions\n",
        "        image = Image.open(\"./apm/images/\" + invoice_name + \".png\")\n",
        "        image = image.convert(\"RGB\")\n",
        "\n",
        "        draw = ImageDraw.Draw(image)\n",
        "        font = ImageFont.load_default()\n",
        "\n",
        "        for prediction, box in zip(word_level_predictions, final_boxes):\n",
        "            predicted_label = iob_to_label(label_map[prediction]).lower()\n",
        "            draw.rectangle(box, outline=label2color[predicted_label])\n",
        "            draw.text((box[0] + 10, box[1] - 10), text=predicted_label, fill=label2color[predicted_label], font=font)\n",
        "        \n",
        "        # If we have an error, save image in ./apm/errors/\n",
        "        image.save(\"./apm/errors/\" + invoice_name + \".png\")\n"
      ],
      "execution_count": null,
      "outputs": []
    }
  ]
}